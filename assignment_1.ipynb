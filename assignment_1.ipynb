{
 "metadata": {
  "language_info": {
   "codemirror_mode": {
    "name": "ipython",
    "version": 3
   },
   "file_extension": ".py",
   "mimetype": "text/x-python",
   "name": "python",
   "nbconvert_exporter": "python",
   "pygments_lexer": "ipython3",
   "version": "3.8.5"
  },
  "orig_nbformat": 2,
  "kernelspec": {
   "name": "python385jvsc74a57bd0082e9a3bcad0a290d0001e938aa60b99250c6c2ef33a923c00b70f9826caf4b7",
   "display_name": "Python 3.8.5 64-bit ('3.8')"
  }
 },
 "nbformat": 4,
 "nbformat_minor": 2,
 "cells": [
  {
   "source": [
    "# Assignment 1 \n",
    "\n",
    "## First draft\n",
    "### Youssef Ragab\n",
    "\n",
    "\n",
    "**1. Loading in the required libraries:**"
   ],
   "cell_type": "markdown",
   "metadata": {}
  },
  {
   "cell_type": "code",
   "execution_count": 18,
   "metadata": {},
   "outputs": [],
   "source": [
    "import pandas as pd \n",
    "import matplotlib.pyplot as plt \n",
    "import h2o \n",
    "import time "
   ]
  },
  {
   "source": [
    "Initializations: "
   ],
   "cell_type": "markdown",
   "metadata": {}
  },
  {
   "cell_type": "code",
   "execution_count": 17,
   "metadata": {},
   "outputs": [
    {
     "output_type": "stream",
     "name": "stdout",
     "text": [
      "Checking whether there is an H2O instance running at http://localhost:54321 ..... not found.\n",
      "Attempting to start a local H2O server...\n",
      "  Java Version: java version \"1.8.0_291\"; Java(TM) SE Runtime Environment (build 1.8.0_291-b10); Java HotSpot(TM) 64-Bit Server VM (build 25.291-b10, mixed mode)\n",
      "  Starting server from /Library/Frameworks/Python.framework/Versions/3.8/lib/python3.8/site-packages/h2o/backend/bin/h2o.jar\n",
      "  Ice root: /var/folders/23/tmpc6_652mqgzfhpdhdwtlz80000gn/T/tmpqzanem8b\n",
      "  JVM stdout: /var/folders/23/tmpc6_652mqgzfhpdhdwtlz80000gn/T/tmpqzanem8b/h2o_youssefragab_started_from_python.out\n",
      "  JVM stderr: /var/folders/23/tmpc6_652mqgzfhpdhdwtlz80000gn/T/tmpqzanem8b/h2o_youssefragab_started_from_python.err\n",
      "  Server is running at http://127.0.0.1:54321\n",
      "Connecting to H2O server at http://127.0.0.1:54321 ... successful.\n"
     ]
    },
    {
     "output_type": "display_data",
     "data": {
      "text/plain": "--------------------------  ------------------------------------------------------------------\nH2O_cluster_uptime:         02 secs\nH2O_cluster_timezone:       Africa/Cairo\nH2O_data_parsing_timezone:  UTC\nH2O_cluster_version:        3.32.1.3\nH2O_cluster_version_age:    9 days\nH2O_cluster_name:           H2O_from_python_youssefragab_12uz48\nH2O_cluster_total_nodes:    1\nH2O_cluster_free_memory:    5.333 Gb\nH2O_cluster_total_cores:    12\nH2O_cluster_allowed_cores:  4\nH2O_cluster_status:         accepting new members, healthy\nH2O_connection_url:         http://127.0.0.1:54321\nH2O_connection_proxy:       {\"http\": null, \"https\": null}\nH2O_internal_security:      False\nH2O_API_Extensions:         Amazon S3, XGBoost, Algos, AutoML, Core V3, TargetEncoder, Core V4\nPython_version:             3.8.5 final\n--------------------------  ------------------------------------------------------------------",
      "text/html": "<div style=\"overflow:auto\"><table style=\"width:50%\"><tr><td>H2O_cluster_uptime:</td>\n<td>02 secs</td></tr>\n<tr><td>H2O_cluster_timezone:</td>\n<td>Africa/Cairo</td></tr>\n<tr><td>H2O_data_parsing_timezone:</td>\n<td>UTC</td></tr>\n<tr><td>H2O_cluster_version:</td>\n<td>3.32.1.3</td></tr>\n<tr><td>H2O_cluster_version_age:</td>\n<td>9 days </td></tr>\n<tr><td>H2O_cluster_name:</td>\n<td>H2O_from_python_youssefragab_12uz48</td></tr>\n<tr><td>H2O_cluster_total_nodes:</td>\n<td>1</td></tr>\n<tr><td>H2O_cluster_free_memory:</td>\n<td>5.333 Gb</td></tr>\n<tr><td>H2O_cluster_total_cores:</td>\n<td>12</td></tr>\n<tr><td>H2O_cluster_allowed_cores:</td>\n<td>4</td></tr>\n<tr><td>H2O_cluster_status:</td>\n<td>accepting new members, healthy</td></tr>\n<tr><td>H2O_connection_url:</td>\n<td>http://127.0.0.1:54321</td></tr>\n<tr><td>H2O_connection_proxy:</td>\n<td>{\"http\": null, \"https\": null}</td></tr>\n<tr><td>H2O_internal_security:</td>\n<td>False</td></tr>\n<tr><td>H2O_API_Extensions:</td>\n<td>Amazon S3, XGBoost, Algos, AutoML, Core V3, TargetEncoder, Core V4</td></tr>\n<tr><td>Python_version:</td>\n<td>3.8.5 final</td></tr></table></div>"
     },
     "metadata": {}
    }
   ],
   "source": [
    "Seed = 2021\n",
    "\n",
    "nthreads = 4\n",
    "\n",
    "h2o.init(max_mem_size= '6G', nthreads= nthreads)\n",
    "h2o.remove_all()\n",
    "h2o.no_progress()"
   ]
  },
  {
   "source": [
    "Start global timer:"
   ],
   "cell_type": "markdown",
   "metadata": {}
  },
  {
   "cell_type": "code",
   "execution_count": 20,
   "metadata": {},
   "outputs": [],
   "source": [
    "tic = time.time()"
   ]
  },
  {
   "source": [
    "Importing data: "
   ],
   "cell_type": "markdown",
   "metadata": {}
  },
  {
   "cell_type": "code",
   "execution_count": 6,
   "metadata": {},
   "outputs": [],
   "source": [
    "train = pd.read_csv('hmda_train_preprocessed.csv')\n",
    "test = pd.read_csv('hmda_test_preprocessed.csv')"
   ]
  },
  {
   "cell_type": "code",
   "execution_count": 7,
   "metadata": {},
   "outputs": [
    {
     "output_type": "execute_result",
     "data": {
      "text/plain": [
       "Index(['row_id', 'black', 'asian', 'white', 'amind', 'hipac', 'hispanic',\n",
       "       'non_hispanic', 'male', 'female', 'agegte62', 'agelt62', 'term_360',\n",
       "       'conforming', 'debt_to_income_ratio_missing', 'loan_amount_std',\n",
       "       'loan_to_value_ratio_std', 'no_intro_rate_period_std',\n",
       "       'intro_rate_period_std', 'property_value_std', 'income_std',\n",
       "       'debt_to_income_ratio_std', 'high_priced'],\n",
       "      dtype='object')"
      ]
     },
     "metadata": {},
     "execution_count": 7
    }
   ],
   "source": [
    "train.columns"
   ]
  },
  {
   "cell_type": "code",
   "execution_count": 8,
   "metadata": {},
   "outputs": [
    {
     "output_type": "execute_result",
     "data": {
      "text/plain": [
       "Index(['row_id', 'black', 'asian', 'white', 'amind', 'hipac', 'hispanic',\n",
       "       'non_hispanic', 'male', 'female', 'agegte62', 'agelt62', 'term_360',\n",
       "       'conforming', 'debt_to_income_ratio_missing', 'loan_amount_std',\n",
       "       'loan_to_value_ratio_std', 'no_intro_rate_period_std',\n",
       "       'intro_rate_period_std', 'property_value_std', 'income_std',\n",
       "       'debt_to_income_ratio_std'],\n",
       "      dtype='object')"
      ]
     },
     "metadata": {},
     "execution_count": 8
    }
   ],
   "source": [
    "test.columns"
   ]
  },
  {
   "source": [
    "Now that we have the datasets loaded, we can proceed and remove the columns that we don't need from the training set. Based on the assignment prompt, we are going to keep the following variables:\n",
    "* high_priced\n",
    "* conforming \n",
    "* debt_to_income_ratio_std\n",
    "* debt_to_income_ratio_missing\n",
    "* income_std \n",
    "* loan_amount_std\n",
    "* intro_rate_period_std\n",
    "* loan_to_value_ratio_std\n",
    "* no_intro_rate_period_std\n",
    "* property_value_std\n",
    "* term_360"
   ],
   "cell_type": "markdown",
   "metadata": {}
  },
  {
   "cell_type": "code",
   "execution_count": 10,
   "metadata": {},
   "outputs": [],
   "source": [
    "x_name = ['conforming', 'debt_to_income_ratio_std', 'debt_to_income_ratio_missing', 'income_std', 'loan_amount_std', 'intro_rate_period_std', 'loan_to_value_ratio_std', 'no_intro_rate_period_std', 'property_value_std', 'term_360']\n",
    "y_name = 'high_priced'\n",
    "\n",
    "train = train[x_name + [y_name]]"
   ]
  },
  {
   "source": [
    "Now that we have only kept the columns that we need from the training set, we can do the same for the testing or validation set. "
   ],
   "cell_type": "markdown",
   "metadata": {}
  },
  {
   "cell_type": "code",
   "execution_count": 16,
   "metadata": {},
   "outputs": [
    {
     "output_type": "execute_result",
     "data": {
      "text/plain": [
       "Index(['conforming', 'debt_to_income_ratio_std',\n",
       "       'debt_to_income_ratio_missing', 'income_std', 'loan_amount_std',\n",
       "       'intro_rate_period_std', 'loan_to_value_ratio_std',\n",
       "       'no_intro_rate_period_std', 'property_value_std', 'term_360'],\n",
       "      dtype='object')"
      ]
     },
     "metadata": {},
     "execution_count": 16
    }
   ],
   "source": [
    "test = test[x_name]\n",
    "test.columns"
   ]
  },
  {
   "source": [
    "Since the testing set does not have the y column, there is no need to add it, and we are left with the same variables as the training set. \n",
    "\n",
    "We can move ahead to training the model. "
   ],
   "cell_type": "markdown",
   "metadata": {}
  },
  {
   "source": [],
   "cell_type": "markdown",
   "metadata": {}
  }
 ]
}